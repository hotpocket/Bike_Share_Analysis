{
 "cells": [
  {
   "cell_type": "markdown",
   "metadata": {},
   "source": [
    "Isolated example of bins=(int) vs bins=range()"
   ]
  },
  {
   "cell_type": "code",
   "execution_count": null,
   "metadata": {
    "scrolled": false
   },
   "outputs": [],
   "source": [
    "from matplotlib import gridspec\n",
    "import matplotlib.pyplot as plt\n",
    "import numpy as np\n",
    "import pandas as pd\n",
    "\n",
    "# df cols (duration, month, hour, day_of_week, user_type)\n",
    "df = pd.read_csv('./data/NYC-2016-Summary.csv')\n",
    "\n",
    "months = ['', 'Jan', 'Feb', 'Mar', 'Apr', 'May', 'Jun', 'Jul', 'Aug', 'Sep', 'Oct', 'Nov', 'Dec']\n",
    "    \n",
    "def hist2d_example(gs, df, user_type, bins, manual=False):\n",
    "    \"\"\"gs:  grid spec\"\"\"\n",
    "    ax = plt.subplot(gs)\n",
    "    # plt.subplot(gs[0]).set_title(\"Testing\")\n",
    "    plt.subplot(ax).set_title(\"{}.  bins={},  manual={}\".format(user_type, bins, manual))\n",
    "    plt.ylabel(\"Trip Duration (minutes)\")\n",
    "    plt.xlabel('Month')\n",
    "    \n",
    "    x = [int(i) for i in df.month]\n",
    "    y = [int(i) for i in df.duration]\n",
    "\n",
    "    # customers by duration by month\n",
    "    if manual == True:  # \n",
    "        H, xedges, yedges = np.histogram2d(x, y, bins=bins)\n",
    "        ax.pcolorfast(xedges, yedges, H.T)\n",
    "    else:\n",
    "        H, xedges, yedges, pc = plt.hist2d(x, y, bins=bins)\n",
    "        \n",
    "    plt.colorbar(label='# Trips Taken')\n",
    "    \n",
    "    # print some debug info\n",
    "    print(\"\\n{}.  bins={},  manual={}\".format(user_type, bins, manual))\n",
    "    as_graphed = np.fliplr(H).T  # organize matrix data to correspond to cells in the 2dhist for easier debugging\n",
    "    print(\"Hist2d data\\n{}\".format(as_graphed))\n",
    "    print(\"xedges\\n{}\\nyedges\\n{}\".format(xedges,yedges))\n",
    "    \n",
    "fig = plt.figure(figsize=(20, 10))  # subplot size (w,h tuple in inches)\n",
    "gs = gridspec.GridSpec(nrows=2, ncols=2)  # flow plt placement, position = index \n",
    "\n",
    "df_customer = df[df.user_type == 'Customer']\n",
    "df_subscriber = df[df.user_type == 'Subscriber']\n",
    "df_customer   = df_customer[df_customer.duration <  int(np.percentile(df_customer.duration, 95))]\n",
    "df_subscriber = df_subscriber[df_subscriber.duration <  int(np.percentile(df_subscriber.duration, 95))]\n",
    "\n",
    "# Only using Month data for user type of Customer.\n",
    "# Emphasize the matplotlib quesitons and de-emphasize the data analysis.\n",
    "\n",
    "bins=12\n",
    "hist2d_example(gs[0], df_customer, 'Customer', bins, manual=False)\n",
    "hist2d_example(gs[1], df_customer, 'Customer', bins, manual=True)\n",
    "\n",
    "bins=range(1,14)\n",
    "hist2d_example(gs[2], df_customer, 'Customer', bins, manual=False)\n",
    "hist2d_example(gs[3], df_customer, 'Customer', bins, manual=True)\n",
    "\n",
    "plt.show()"
   ]
  },
  {
   "cell_type": "markdown",
   "metadata": {},
   "source": [
    "So after a bit of staring it seems the graphs are different because using range() truncates my y (duration) at 12 and i'm only seeing that range in expanded detail, and that is why the graphs are different.  But these questions sill remain.\n",
    "\n",
    "* Why when given a range does it truncate my yedges at 12?\n",
    "* Why does xedges need to be from 1 to 13 when range is used and 1 to 12 when an integer is used?  If you change the range to range(1,13) you truncate the right most column of data, and if you specify bins=13 you get an additional column of empty data in the middle of the graph.\n",
    "* All I want is for my xedges to line up with the columns they represent, and stack overflow suggests using a range to accomplish this, however this caused the above mentioned issues.  Why?  There must be an easier way to accomplish this no?\n",
    "\n",
    "\n"
   ]
  }
 ],
 "metadata": {
  "anaconda-cloud": {},
  "kernelspec": {
   "display_name": "Python 3",
   "language": "python",
   "name": "python3"
  },
  "language_info": {
   "codemirror_mode": {
    "name": "ipython",
    "version": 3
   },
   "file_extension": ".py",
   "mimetype": "text/x-python",
   "name": "python",
   "nbconvert_exporter": "python",
   "pygments_lexer": "ipython3",
   "version": "3.6.3"
  }
 },
 "nbformat": 4,
 "nbformat_minor": 1
}
